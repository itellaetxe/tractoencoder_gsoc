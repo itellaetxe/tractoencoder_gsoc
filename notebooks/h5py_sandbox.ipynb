{
 "cells": [
  {
   "cell_type": "code",
   "execution_count": 1,
   "metadata": {},
   "outputs": [],
   "source": [
    "import os\n",
    "import h5py\n",
    "import numpy as np"
   ]
  },
  {
   "cell_type": "markdown",
   "metadata": {},
   "source": [
    "# Small trials with small dataset"
   ]
  },
  {
   "cell_type": "markdown",
   "metadata": {},
   "source": [
    "### Open the file"
   ]
  },
  {
   "cell_type": "code",
   "execution_count": 3,
   "metadata": {},
   "outputs": [],
   "source": [
    "fname = \"/home/teitxe/data/fibercup/endpoint_bundling/hdf5_database/fibercup_bundles_prob_tracking.hdf5\"\n",
    "\n",
    "# Open HDF5 file\n",
    "f = h5py.File(fname, \"r\")\n",
    "data = f[\"fibercup\"]\n"
   ]
  },
  {
   "cell_type": "markdown",
   "metadata": {},
   "source": [
    "### Print the structure"
   ]
  },
  {
   "cell_type": "code",
   "execution_count": 4,
   "metadata": {},
   "outputs": [],
   "source": [
    "def print_all_groups(name):\n",
    "    obj = f[name]\n",
    "    if isinstance(obj, h5py.Group):\n",
    "        print(name)"
   ]
  },
  {
   "cell_type": "code",
   "execution_count": 5,
   "metadata": {},
   "outputs": [
    {
     "data": {
      "text/plain": [
       "<HDF5 group \"/fibercup/subjects/train/sub-0001/tractography_data\" (7 members)>"
      ]
     },
     "execution_count": 5,
     "metadata": {},
     "output_type": "execute_result"
    }
   ],
   "source": [
    "f[\"fibercup/subjects/train/sub-0001/tractography_data\"]"
   ]
  },
  {
   "cell_type": "code",
   "execution_count": 6,
   "metadata": {},
   "outputs": [
    {
     "name": "stdout",
     "output_type": "stream",
     "text": [
      "fibercup\n",
      "fibercup/subjects\n",
      "fibercup/subjects/test\n",
      "fibercup/subjects/test/sub-0003\n",
      "fibercup/subjects/test/sub-0003/tractography_data\n",
      "fibercup/subjects/test/sub-0003/tractography_data/bundle_1\n",
      "fibercup/subjects/test/sub-0003/tractography_data/bundle_2\n",
      "fibercup/subjects/test/sub-0003/tractography_data/bundle_3\n",
      "fibercup/subjects/test/sub-0003/tractography_data/bundle_4\n",
      "fibercup/subjects/test/sub-0003/tractography_data/bundle_5\n",
      "fibercup/subjects/test/sub-0003/tractography_data/bundle_6\n",
      "fibercup/subjects/test/sub-0003/tractography_data/bundle_7\n",
      "fibercup/subjects/train\n",
      "fibercup/subjects/train/sub-0001\n",
      "fibercup/subjects/train/sub-0001/tractography_data\n",
      "fibercup/subjects/train/sub-0001/tractography_data/bundle_1\n",
      "fibercup/subjects/train/sub-0001/tractography_data/bundle_2\n",
      "fibercup/subjects/train/sub-0001/tractography_data/bundle_3\n",
      "fibercup/subjects/train/sub-0001/tractography_data/bundle_4\n",
      "fibercup/subjects/train/sub-0001/tractography_data/bundle_5\n",
      "fibercup/subjects/train/sub-0001/tractography_data/bundle_6\n",
      "fibercup/subjects/train/sub-0001/tractography_data/bundle_7\n",
      "fibercup/subjects/valid\n",
      "fibercup/subjects/valid/sub-0002\n",
      "fibercup/subjects/valid/sub-0002/tractography_data\n",
      "fibercup/subjects/valid/sub-0002/tractography_data/bundle_1\n",
      "fibercup/subjects/valid/sub-0002/tractography_data/bundle_2\n",
      "fibercup/subjects/valid/sub-0002/tractography_data/bundle_3\n",
      "fibercup/subjects/valid/sub-0002/tractography_data/bundle_4\n",
      "fibercup/subjects/valid/sub-0002/tractography_data/bundle_5\n",
      "fibercup/subjects/valid/sub-0002/tractography_data/bundle_6\n",
      "fibercup/subjects/valid/sub-0002/tractography_data/bundle_7\n"
     ]
    }
   ],
   "source": [
    "f.visit(print_all_groups)"
   ]
  },
  {
   "cell_type": "markdown",
   "metadata": {},
   "source": [
    "### Get the data"
   ]
  },
  {
   "cell_type": "code",
   "execution_count": 10,
   "metadata": {},
   "outputs": [
    {
     "data": {
      "text/plain": [
       "7"
      ]
     },
     "execution_count": 10,
     "metadata": {},
     "output_type": "execute_result"
    }
   ],
   "source": [
    "# Get the data\n",
    "data = f[\"fibercup/subjects/train/sub-0001/tractography_data\"]\n",
    "dataset = []\n",
    "for bundle in data:\n",
    "    dataset.append(np.array(data[bundle][\"data\"]))\n",
    "\n",
    "len(dataset)"
   ]
  },
  {
   "cell_type": "markdown",
   "metadata": {},
   "source": [
    "# Trial with big dataset (TractoInferno)"
   ]
  },
  {
   "cell_type": "code",
   "execution_count": 2,
   "metadata": {},
   "outputs": [],
   "source": [
    "import os\n",
    "import h5py\n",
    "import numpy as np\n",
    "\n",
    "# Open HDF5 file\n",
    "fname = \"/home/teitxe/data/tractolearn_data/data_tractoinferno_hcp_qbx.hdf5\"\n",
    "f = h5py.File(fname, \"r\")"
   ]
  },
  {
   "cell_type": "code",
   "execution_count": 5,
   "metadata": {},
   "outputs": [
    {
     "name": "stdout",
     "output_type": "stream",
     "text": [
      "(3220, 256, 3)\n"
     ]
    }
   ],
   "source": [
    "data = np.array(f['train']['0']['streamline'])\n",
    "print(data.shape)"
   ]
  },
  {
   "cell_type": "code",
   "execution_count": 6,
   "metadata": {},
   "outputs": [
    {
     "data": {
      "text/plain": [
       "107695"
      ]
     },
     "execution_count": 6,
     "metadata": {},
     "output_type": "execute_result"
    }
   ],
   "source": [
    "len(f['train'])"
   ]
  },
  {
   "cell_type": "markdown",
   "metadata": {},
   "source": [
    "### Try the HDF5Matrix from Keras"
   ]
  },
  {
   "cell_type": "code",
   "execution_count": 7,
   "metadata": {},
   "outputs": [
    {
     "name": "stderr",
     "output_type": "stream",
     "text": [
      "2024-06-17 14:12:38.619298: I tensorflow/core/util/port.cc:113] oneDNN custom operations are on. You may see slightly different numerical results due to floating-point round-off errors from different computation orders. To turn them off, set the environment variable `TF_ENABLE_ONEDNN_OPTS=0`.\n",
      "2024-06-17 14:12:38.619784: I external/local_tsl/tsl/cuda/cudart_stub.cc:32] Could not find cuda drivers on your machine, GPU will not be used.\n",
      "2024-06-17 14:12:38.625006: I external/local_tsl/tsl/cuda/cudart_stub.cc:32] Could not find cuda drivers on your machine, GPU will not be used.\n",
      "2024-06-17 14:12:38.680940: I tensorflow/core/platform/cpu_feature_guard.cc:210] This TensorFlow binary is optimized to use available CPU instructions in performance-critical operations.\n",
      "To enable the following instructions: AVX2 AVX_VNNI FMA, in other operations, rebuild TensorFlow with the appropriate compiler flags.\n",
      "2024-06-17 14:12:39.676148: W tensorflow/compiler/tf2tensorrt/utils/py_utils.cc:38] TF-TRT Warning: Could not find TensorRT\n"
     ]
    }
   ],
   "source": [
    "from tensorflow.keras.utils import Sequence"
   ]
  },
  {
   "cell_type": "code",
   "execution_count": 11,
   "metadata": {},
   "outputs": [],
   "source": [
    "class TractoInfernoDataGenerator(Sequence):\n",
    "    def __init__(self,\n",
    "                 hdf5_fname: str,\n",
    "                 mode: str = 'train',\n",
    "                 batch_size: int = 32):\n",
    "        self.file = h5py.File(hdf5_fname, 'r')\n",
    "        self.hdf5_file = hdf5_fname\n",
    "        self.mode = mode\n",
    "        self.batch_size = batch_size\n",
    "\n",
    "        with h5py.File(self.hdf5_file, 'r') as f:\n",
    "            self.num_subjs = len(f[self.mode])\n",
    "            self.subj_ids = list(f[self.mode].keys())\n",
    "\n",
    "    def __len__(self):\n",
    "        return int(np.ceil(self.num_subjs / self.batch_size))\n",
    "\n",
    "    def __getitem__(self, idx):\n",
    "        subj_id = self.subj_ids[idx]\n",
    "        x_batch = np.array(self.file[self.mode][subj_id][\"streamline\"])\n",
    "        return x_batch, x_batch"
   ]
  },
  {
   "cell_type": "code",
   "execution_count": 40,
   "metadata": {},
   "outputs": [
    {
     "data": {
      "text/plain": [
       "<HDF5 dataset \"streamline\": shape (45, 256, 3), type \"<f4\">"
      ]
     },
     "execution_count": 40,
     "metadata": {},
     "output_type": "execute_result"
    }
   ],
   "source": [
    "dataset.file['train']['100']['streamline']"
   ]
  },
  {
   "cell_type": "code",
   "execution_count": 48,
   "metadata": {},
   "outputs": [
    {
     "name": "stdout",
     "output_type": "stream",
     "text": [
      "3220\n",
      "10840\n",
      "5416\n",
      "529\n",
      "308\n",
      "189\n",
      "1974\n",
      "172\n",
      "4187\n",
      "578\n",
      "2543\n",
      "3146\n",
      "8065\n",
      "182\n",
      "728\n",
      "605\n",
      "387\n",
      "944\n",
      "131\n",
      "115\n",
      "168\n",
      "2000\n",
      "196\n",
      "495\n",
      "131\n",
      "1076\n",
      "272\n",
      "347\n",
      "424\n",
      "9112\n",
      "6226\n",
      "599\n",
      "323\n",
      "396\n",
      "161\n",
      "27648\n",
      "667\n",
      "2711\n",
      "11718\n",
      "1820\n",
      "4290\n",
      "75011\n",
      "124\n",
      "160\n",
      "671\n",
      "8495\n",
      "1174\n",
      "176\n",
      "125\n",
      "111\n",
      "144\n",
      "888\n",
      "148\n",
      "293\n",
      "706\n",
      "8802\n",
      "2242\n",
      "202\n",
      "260\n",
      "617\n",
      "7055\n",
      "115\n",
      "293\n",
      "2203\n",
      "376\n",
      "456\n",
      "789\n",
      "1702\n",
      "161\n",
      "341\n",
      "136\n",
      "673\n",
      "1714\n",
      "150\n",
      "19093\n",
      "5631\n",
      "10248\n",
      "174\n",
      "334\n",
      "9273\n",
      "2280\n",
      "4087\n",
      "181\n",
      "370\n",
      "313\n",
      "85\n"
     ]
    }
   ],
   "source": [
    "dataset = TractoInfernoDataGenerator(fname)\n",
    "c = 0\n",
    "for i in range(len(dataset)):\n",
    "    a, _ = dataset.__getitem__(i)\n",
    "    sh = a.shape[0]\n",
    "    if sh > 100:\n",
    "        print(sh)\n",
    "        c += 1\n",
    "\n",
    "print(c)"
   ]
  },
  {
   "cell_type": "code",
   "execution_count": 32,
   "metadata": {},
   "outputs": [
    {
     "data": {
      "text/plain": [
       "(10, 256, 3)"
      ]
     },
     "execution_count": 32,
     "metadata": {},
     "output_type": "execute_result"
    }
   ],
   "source": []
  },
  {
   "cell_type": "code",
   "execution_count": null,
   "metadata": {},
   "outputs": [],
   "source": []
  }
 ],
 "metadata": {
  "kernelspec": {
   "display_name": ".venv",
   "language": "python",
   "name": "python3"
  },
  "language_info": {
   "codemirror_mode": {
    "name": "ipython",
    "version": 3
   },
   "file_extension": ".py",
   "mimetype": "text/x-python",
   "name": "python",
   "nbconvert_exporter": "python",
   "pygments_lexer": "ipython3",
   "version": "3.11.2"
  }
 },
 "nbformat": 4,
 "nbformat_minor": 2
}
