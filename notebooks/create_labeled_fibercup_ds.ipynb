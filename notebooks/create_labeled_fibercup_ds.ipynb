{
 "cells": [
  {
   "cell_type": "code",
   "execution_count": 16,
   "metadata": {},
   "outputs": [],
   "source": [
    "import os\n",
    "import pickle\n",
    "import numpy as np\n",
    "import nibabel as nib\n",
    "\n",
    "from tractoencoder_gsoc.utils import compute_streamline_length"
   ]
  },
  {
   "cell_type": "code",
   "execution_count": 17,
   "metadata": {},
   "outputs": [],
   "source": [
    "wd = os.path.dirname(os.path.abspath(\".\"))\n",
    "data_dir = os.path.join(wd, \"data/fibercup/fibercup_advanced_filtering_no_ushapes/ae_input_std_endpoints/train/quickbundles\")\n",
    "bundle_paths = sorted([os.path.join(data_dir, f) for f in os.listdir(data_dir) if f.endswith(\".trk\")])"
   ]
  },
  {
   "cell_type": "code",
   "execution_count": 18,
   "metadata": {},
   "outputs": [],
   "source": [
    "dataset_dict = {}\n",
    "dataset_dict[\"streamlines\"] = []\n",
    "dataset_dict[\"label\"] = []\n",
    "dataset_dict[\"length\"] = []\n",
    "\n",
    "for bundle_path in bundle_paths:\n",
    "    # Read streamlines\n",
    "    bundle = np.array(nib.streamlines.load(bundle_path).streamlines)\n",
    "    # Extract label\n",
    "    label = os.path.basename(bundle_path).split(\"bundle_\")[-1][0]\n",
    "    labels = [float(label)] * len(bundle)\n",
    "    # Extract lenghts\n",
    "    lengths = [float(compute_streamline_length(s)) for s in bundle]\n",
    "\n",
    "    # Append to dataset\n",
    "    dataset_dict[\"streamlines\"].extend(bundle)\n",
    "    dataset_dict[\"label\"].extend(labels)\n",
    "    dataset_dict[\"length\"].extend(lengths)"
   ]
  },
  {
   "cell_type": "code",
   "execution_count": 19,
   "metadata": {},
   "outputs": [],
   "source": [
    "# Save pickle\n",
    "output_path = os.path.join(data_dir, \"FiberCup_bundles_and_length_attribute.pkl\")\n",
    "\n",
    "pickle.dump(dataset_dict, open(output_path, \"wb\"))"
   ]
  },
  {
   "cell_type": "code",
   "execution_count": 20,
   "metadata": {},
   "outputs": [],
   "source": [
    "from tractoencoder_gsoc.data_loader import DataLoader"
   ]
  },
  {
   "cell_type": "code",
   "execution_count": 21,
   "metadata": {},
   "outputs": [],
   "source": [
    "# Try the data_loader\n",
    "dataset = DataLoader(output_path, 128)\n",
    "train_dataset = dataset.make_dataset()  # It works\n"
   ]
  },
  {
   "cell_type": "code",
   "execution_count": 22,
   "metadata": {},
   "outputs": [
    {
     "name": "stdout",
     "output_type": "stream",
     "text": [
      "tf.Tensor(\n",
      "[0. 0. 0. 0. 0. 0. 0. 0. 0. 0. 0. 0. 0. 0. 0. 0. 0. 0. 0. 0. 0. 0. 0. 0.\n",
      " 0. 0. 0. 0. 0. 0. 0. 0. 0. 0. 0. 0. 0. 0. 0. 0. 0. 0. 0. 0. 0. 0. 0. 0.\n",
      " 0. 0. 0. 0. 0. 0. 0. 0. 0. 0. 0. 0. 0. 0. 0. 0. 0. 0. 0. 0. 0. 0. 0. 0.\n",
      " 0. 0. 0. 0. 0. 0. 0. 0. 0. 0. 0. 0. 0. 0. 0. 0. 0. 0. 0. 0. 0. 0. 0. 0.\n",
      " 0. 0. 0. 0. 0. 0. 0. 0. 0. 0. 0. 0. 0. 0. 0. 0. 0. 0. 0. 0. 0. 0. 0. 0.\n",
      " 0. 0. 0. 0. 0. 0. 0. 0.], shape=(128,), dtype=float32)\n"
     ]
    },
    {
     "name": "stderr",
     "output_type": "stream",
     "text": [
      "2024-08-11 17:48:39.870607: W tensorflow/core/framework/local_rendezvous.cc:404] Local rendezvous is aborting with status: OUT_OF_RANGE: End of sequence\n"
     ]
    }
   ],
   "source": [
    "for i in train_dataset.take(1):\n",
    "    print(i[\"label\"])\n"
   ]
  },
  {
   "cell_type": "code",
   "execution_count": null,
   "metadata": {},
   "outputs": [],
   "source": []
  }
 ],
 "metadata": {
  "kernelspec": {
   "display_name": ".venv",
   "language": "python",
   "name": "python3"
  },
  "language_info": {
   "codemirror_mode": {
    "name": "ipython",
    "version": 3
   },
   "file_extension": ".py",
   "mimetype": "text/x-python",
   "name": "python",
   "nbconvert_exporter": "python",
   "pygments_lexer": "ipython3",
   "version": "3.11.2"
  }
 },
 "nbformat": 4,
 "nbformat_minor": 2
}
