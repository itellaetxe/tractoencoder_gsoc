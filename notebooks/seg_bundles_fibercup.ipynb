{
 "cells": [
  {
   "cell_type": "code",
   "execution_count": 1,
   "metadata": {},
   "outputs": [
    {
     "name": "stderr",
     "output_type": "stream",
     "text": [
      "/home/teitxe/projects/tractoencoder_gsoc/.venv/lib/python3.11/site-packages/tqdm/auto.py:21: TqdmWarning: IProgress not found. Please update jupyter and ipywidgets. See https://ipywidgets.readthedocs.io/en/stable/user_install.html\n",
      "  from .autonotebook import tqdm as notebook_tqdm\n"
     ]
    }
   ],
   "source": [
    "import os\n",
    "\n",
    "import numpy as np\n",
    "from dipy.io.streamline import load_tractogram\n",
    "from dipy.segment.clustering import QuickBundles\n",
    "from dipy.io.pickles import save_pickle\n",
    "from dipy.data import get_fnames"
   ]
  },
  {
   "cell_type": "markdown",
   "metadata": {},
   "source": [
    "### Load FiberCup fibers (training, plausibles)"
   ]
  },
  {
   "cell_type": "code",
   "execution_count": 2,
   "metadata": {},
   "outputs": [],
   "source": [
    "# Load tractogram\n",
    "fname = \"../data/fibercup/fibercup_advanced_filtering_no_ushapes/ae_input_std_endpoints/train/fibercup_Simulated_prob_tracking_minL10_resampled256_plausibles_std_endpoints_train.trk\"\n",
    "tractogram = load_tractogram(fname, \"same\", bbox_valid_check=False)\n",
    "streamlines = tractogram.streamlines"
   ]
  },
  {
   "cell_type": "markdown",
   "metadata": {},
   "source": [
    "### Use QuickBundles to segment the bundles in FiberCup"
   ]
  },
  {
   "cell_type": "code",
   "execution_count": 3,
   "metadata": {},
   "outputs": [
    {
     "name": "stdout",
     "output_type": "stream",
     "text": [
      "Nb. clusters: 7\n",
      "Cluster sizes: [341, 592, 296, 256, 511, 448, 668]\n",
      "Small clusters: [False False False False False False False]\n"
     ]
    }
   ],
   "source": [
    "qb = QuickBundles(threshold=10.)\n",
    "clusters = qb.cluster(streamlines)\n",
    "bundles = [np.array(bundle) for bundle in clusters]\n",
    "\n",
    "print(\"Nb. clusters:\", len(clusters))\n",
    "print(\"Cluster sizes:\", [len(cluster) for cluster in clusters])\n",
    "print(\"Small clusters:\", clusters < 10)"
   ]
  },
  {
   "cell_type": "markdown",
   "metadata": {},
   "source": [
    "### Save each bundle into a .trk file"
   ]
  },
  {
   "cell_type": "code",
   "execution_count": 5,
   "metadata": {},
   "outputs": [],
   "source": [
    "import tractoencoder_gsoc.utils as utils\n",
    "# Reference anatomy\n",
    "ref_anat = \"../data/fibercup/Simulated_FiberCup.nii.gz\"\n",
    "output_path = \"../data/fibercup/fibercup_advanced_filtering_no_ushapes/ae_input_std_endpoints/train/quickbundles\"\n",
    "os.makedirs(output_path, exist_ok=True)\n",
    "for i, bundle in enumerate(bundles):\n",
    "    bundle_name = f\"bundle_{i}\"\n",
    "    bundle_trk_path = os.path.join(output_path, f\"{bundle_name}.trk\")\n",
    "    utils.save_tractogram(streamlines=bundle,\n",
    "                          tractogram_fname=bundle_trk_path,\n",
    "                          img_fname=ref_anat)"
   ]
  },
  {
   "cell_type": "markdown",
   "metadata": {},
   "source": [
    "### Load tractograms to check if saving was successfull"
   ]
  },
  {
   "cell_type": "code",
   "execution_count": null,
   "metadata": {},
   "outputs": [],
   "source": [
    "bundle_fname = \"../data/fibercup/fibercup_advanced_filtering_no_ushapes/ae_input_std_endpoints/train/quickbundles/bundle_0.trk\"\n",
    "utils.prepare_tensor_from_file(bundle_trk_path, img_fname=ref_anat)"
   ]
  },
  {
   "cell_type": "code",
   "execution_count": null,
   "metadata": {},
   "outputs": [],
   "source": []
  }
 ],
 "metadata": {
  "kernelspec": {
   "display_name": ".venv",
   "language": "python",
   "name": "python3"
  },
  "language_info": {
   "codemirror_mode": {
    "name": "ipython",
    "version": 3
   },
   "file_extension": ".py",
   "mimetype": "text/x-python",
   "name": "python",
   "nbconvert_exporter": "python",
   "pygments_lexer": "ipython3",
   "version": "3.11.2"
  }
 },
 "nbformat": 4,
 "nbformat_minor": 2
}
