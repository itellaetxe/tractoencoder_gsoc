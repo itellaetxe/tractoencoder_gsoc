{
 "cells": [
  {
   "cell_type": "code",
   "execution_count": 1,
   "metadata": {},
   "outputs": [
    {
     "name": "stderr",
     "output_type": "stream",
     "text": [
      "/home/teitxe/projects/tractoencoder_gsoc/.venv/lib/python3.11/site-packages/tqdm/auto.py:21: TqdmWarning: IProgress not found. Please update jupyter and ipywidgets. See https://ipywidgets.readthedocs.io/en/stable/user_install.html\n",
      "  from .autonotebook import tqdm as notebook_tqdm\n"
     ]
    }
   ],
   "source": [
    "import os\n",
    "\n",
    "import numpy as np\n",
    "from dipy.io.streamline import load_tractogram\n",
    "from dipy.segment.clustering import QuickBundles\n",
    "from dipy.io.pickles import save_pickle\n",
    "from dipy.data import get_fnames"
   ]
  },
  {
   "cell_type": "markdown",
   "metadata": {},
   "source": [
    "### Load FiberCup fibers (training, plausibles)"
   ]
  },
  {
   "cell_type": "code",
   "execution_count": 5,
   "metadata": {},
   "outputs": [],
   "source": [
    "# Load tractogram\n",
    "fname = \"../data/fibercup/fibercup_advanced_filtering_no_ushapes/ae_input_std_endpoints/train/fibercup_Simulated_prob_tracking_minL10_resampled256_plausibles_std_endpoints_train.trk\"\n",
    "ref_anat = \"../data/fibercup/Simulated_FiberCup_mask.nii.gz\"\n",
    "tractogram = load_tractogram(fname, ref_anat, bbox_valid_check=True)\n",
    "streamlines = tractogram.streamlines"
   ]
  },
  {
   "cell_type": "markdown",
   "metadata": {},
   "source": [
    "### Use QuickBundles to segment the bundles in FiberCup"
   ]
  },
  {
   "cell_type": "code",
   "execution_count": 6,
   "metadata": {},
   "outputs": [
    {
     "name": "stdout",
     "output_type": "stream",
     "text": [
      "Nb. clusters: 7\n",
      "Cluster sizes: [341, 592, 296, 256, 511, 448, 668]\n",
      "Small clusters: [False False False False False False False]\n"
     ]
    }
   ],
   "source": [
    "qb = QuickBundles(threshold=10.)\n",
    "clusters = qb.cluster(streamlines)\n",
    "bundles = [np.array(bundle) for bundle in clusters]\n",
    "\n",
    "print(\"Nb. clusters:\", len(clusters))\n",
    "print(\"Cluster sizes:\", [len(cluster) for cluster in clusters])\n",
    "print(\"Small clusters:\", clusters < 10)"
   ]
  },
  {
   "cell_type": "markdown",
   "metadata": {},
   "source": [
    "### Save each bundle into a .trk file"
   ]
  },
  {
   "cell_type": "code",
   "execution_count": null,
   "metadata": {},
   "outputs": [],
   "source": []
  },
  {
   "cell_type": "code",
   "execution_count": 7,
   "metadata": {},
   "outputs": [
    {
     "name": "stderr",
     "output_type": "stream",
     "text": [
      "2024-08-07 16:29:48.272105: I tensorflow/core/util/port.cc:113] oneDNN custom operations are on. You may see slightly different numerical results due to floating-point round-off errors from different computation orders. To turn them off, set the environment variable `TF_ENABLE_ONEDNN_OPTS=0`.\n",
      "2024-08-07 16:29:48.469636: I tensorflow/core/platform/cpu_feature_guard.cc:210] This TensorFlow binary is optimized to use available CPU instructions in performance-critical operations.\n",
      "To enable the following instructions: AVX2 AVX_VNNI FMA, in other operations, rebuild TensorFlow with the appropriate compiler flags.\n",
      "2024-08-07 16:29:54.542807: W tensorflow/compiler/tf2tensorrt/utils/py_utils.cc:38] TF-TRT Warning: Could not find TensorRT\n"
     ]
    }
   ],
   "source": [
    "import tractoencoder_gsoc.utils as utils\n",
    "# Reference anatomy\n",
    "\n",
    "output_path = \"../data/fibercup/fibercup_advanced_filtering_no_ushapes/ae_input_std_endpoints/train/quickbundles\"\n",
    "os.makedirs(output_path, exist_ok=True)\n",
    "for i, bundle in enumerate(bundles):\n",
    "    bundle_name = f\"bundle_{i}\"\n",
    "    bundle_trk_path = os.path.join(output_path, f\"{bundle_name}.trk\")\n",
    "    utils.save_tractogram(streamlines=bundle,\n",
    "                          tractogram_fname=bundle_trk_path,\n",
    "                          img_fname=ref_anat)"
   ]
  },
  {
   "cell_type": "markdown",
   "metadata": {},
   "source": [
    "### Load tractograms to check if saving was successfull"
   ]
  },
  {
   "cell_type": "code",
   "execution_count": 8,
   "metadata": {},
   "outputs": [
    {
     "data": {
      "text/plain": [
       "<tf.Tensor: shape=(668, 256, 3), dtype=float32, numpy=\n",
       "array([[[ 4.6249304e+02, -1.5929135e+02,  7.9583731e+00],\n",
       "        [ 4.6108334e+02, -1.6038249e+02,  8.0404186e+00],\n",
       "        [ 4.5971027e+02, -1.6146280e+02,  8.3738937e+00],\n",
       "        ...,\n",
       "        [ 2.1730911e+02, -5.0642249e+02, -5.4129534e+00],\n",
       "        [ 2.1679565e+02, -5.0810309e+02, -5.7078676e+00],\n",
       "        [ 2.1689084e+02, -5.0984756e+02, -5.4661508e+00]],\n",
       "\n",
       "       [[ 4.6913000e+02, -1.7114336e+02,  1.0161359e+00],\n",
       "        [ 4.6828702e+02, -1.7262582e+02,  1.3278852e+00],\n",
       "        [ 4.6754263e+02, -1.7397104e+02,  2.1477513e+00],\n",
       "        ...,\n",
       "        [ 2.3922229e+02, -5.0670642e+02, -5.0077481e+00],\n",
       "        [ 2.3801962e+02, -5.0783148e+02, -5.4598289e+00],\n",
       "        [ 2.3699394e+02, -5.0893256e+02, -6.3430505e+00]],\n",
       "\n",
       "       [[ 4.4706940e+02, -1.4361279e+02,  2.6048899e-01],\n",
       "        [ 4.4766782e+02, -1.4533060e+02,  4.2974496e-01],\n",
       "        [ 4.4810315e+02, -1.4709525e+02,  5.8782077e-01],\n",
       "        ...,\n",
       "        [ 2.2274567e+02, -5.1009494e+02, -8.1978464e-01],\n",
       "        [ 2.2255811e+02, -5.1185834e+02, -4.2574096e-01],\n",
       "        [ 2.2211621e+02, -5.1359161e+02, -5.3182125e-02]],\n",
       "\n",
       "       ...,\n",
       "\n",
       "       [[ 4.6084598e+02, -1.5720012e+02, -6.8562770e-01],\n",
       "        [ 4.5974222e+02, -1.5859950e+02, -6.1983418e-01],\n",
       "        [ 4.5883075e+02, -1.6004475e+02, -9.7013712e-01],\n",
       "        ...,\n",
       "        [ 2.3181387e+02, -5.1160815e+02, -4.4863701e-01],\n",
       "        [ 2.3157475e+02, -5.1315479e+02,  3.6988592e-01],\n",
       "        [ 2.3111852e+02, -5.1481842e+02,  8.0343032e-01]],\n",
       "\n",
       "       [[ 4.6040125e+02, -1.5552470e+02,  1.8510910e+01],\n",
       "        [ 4.5893774e+02, -1.5635408e+02,  1.7892757e+01],\n",
       "        [ 4.5784094e+02, -1.5765154e+02,  1.7481098e+01],\n",
       "        ...,\n",
       "        [ 2.3321094e+02, -5.1179163e+02,  1.1180899e+01],\n",
       "        [ 2.3270634e+02, -5.1349402e+02,  1.1353869e+01],\n",
       "        [ 2.3221219e+02, -5.1521680e+02,  1.1495691e+01]],\n",
       "\n",
       "       [[ 4.4852618e+02, -1.4340720e+02,  1.3275871e+01],\n",
       "        [ 4.4724847e+02, -1.4471271e+02,  1.3272438e+01],\n",
       "        [ 4.4627063e+02, -1.4619495e+02,  1.2980511e+01],\n",
       "        ...,\n",
       "        [ 2.2520476e+02, -5.1091068e+02,  1.8693321e+01],\n",
       "        [ 2.2587741e+02, -5.1253857e+02,  1.8946201e+01],\n",
       "        [ 2.2698930e+02, -5.1393469e+02,  1.9324894e+01]]], dtype=float32)>"
      ]
     },
     "execution_count": 8,
     "metadata": {},
     "output_type": "execute_result"
    }
   ],
   "source": [
    "bundle_fname = \"../data/fibercup/fibercup_advanced_filtering_no_ushapes/ae_input_std_endpoints/train/quickbundles/bundle_0.trk\"\n",
    "utils.prepare_tensor_from_file(bundle_trk_path, img_fname=ref_anat)"
   ]
  },
  {
   "cell_type": "code",
   "execution_count": null,
   "metadata": {},
   "outputs": [],
   "source": []
  }
 ],
 "metadata": {
  "kernelspec": {
   "display_name": ".venv",
   "language": "python",
   "name": "python3"
  },
  "language_info": {
   "codemirror_mode": {
    "name": "ipython",
    "version": 3
   },
   "file_extension": ".py",
   "mimetype": "text/x-python",
   "name": "python",
   "nbconvert_exporter": "python",
   "pygments_lexer": "ipython3",
   "version": "3.11.2"
  }
 },
 "nbformat": 4,
 "nbformat_minor": 2
}
